{
 "cells": [
  {
   "cell_type": "code",
   "execution_count": null,
   "id": "7dbc2dac-b6a3-4e9b-9edb-a393eeb93774",
   "metadata": {},
   "outputs": [],
   "source": [
    "!pip install numpngw"
   ]
  },
  {
   "cell_type": "code",
   "execution_count": null,
   "id": "eb2ad43d-cdca-4481-a4be-dac8331974ac",
   "metadata": {},
   "outputs": [],
   "source": [
    "import os\n",
    "import nibabel as nib\n",
    "import matplotlib.pyplot as plt\n",
    "import numpy as np\n",
    "import numpngw\n",
    "\n",
    "# Chemin du dossier contenant les images NIfTI\n",
    "dossier_images_nii = '/content/drive/MyDrive/atlas-train-dataset-1.0.1/atlas-train-dataset-1.0.1/train/imagesTr'\n",
    "\n",
    "# Chemin du dossier de sauvegarde des images PNG\n",
    "dossier_images_png = '/content/drive/MyDrive/images'\n",
    "\n",
    "# Vérifier si le dossier de sauvegarde existe, sinon le créer\n",
    "if not os.path.exists(dossier_images_png):\n",
    "    os.makedirs(dossier_images_png)\n",
    "\n",
    "# Parcourir tous les fichiers dans le dossier\n",
    "for fichier in os.listdir(dossier_images_nii):\n",
    "    if fichier.endswith('.nii'):\n",
    "        chemin_fichier_nii = os.path.join(dossier_images_nii, fichier)\n",
    "\n",
    "        # Charger l'image NIfTI\n",
    "        img = nib.load(chemin_fichier_nii)\n",
    "\n",
    "        # Obtenir les données de l'image\n",
    "        data = img.get_fdata()\n",
    "\n",
    "        img = np.clip(data, -200, 30000) #Organic material >= 200HU (Hounsfield Units)\n",
    "\n",
    "        for idx in range(img.shape[2]):\n",
    "            cut = img[:,:,idx]\n",
    "            cut = cut - np.min(cut) #Move image to positive numbers\n",
    "            cut = np.stack((cut/(np.max(cut)+1e-8),)*3, axis=-1) #Normalized images to 3 channels\n",
    "            cut = cut * np.iinfo(np.uint16).max #Images to 16 bits\n",
    "            cut = cut.astype(np.uint16)[:,:,0]\n",
    "            cut = np.expand_dims(cut, -1)\n",
    "            # Sauvegarder l'image PNG avec le même nom de fichier\n",
    "            chemin_sauvegarde_png = os.path.join(dossier_images_png, f\"{fichier[:-7]}_{idx}.png\")\n",
    "            numpngw.write_png(chemin_sauvegarde_png, cut)\n",
    "\n",
    "print(\"Conversion terminée pour tous les fichiers dans le dossier.\")"
   ]
  }
 ],
 "metadata": {
  "kernelspec": {
   "display_name": "Python 3 (ipykernel)",
   "language": "python",
   "name": "python3"
  },
  "language_info": {
   "codemirror_mode": {
    "name": "ipython",
    "version": 3
   },
   "file_extension": ".py",
   "mimetype": "text/x-python",
   "name": "python",
   "nbconvert_exporter": "python",
   "pygments_lexer": "ipython3",
   "version": "3.10.12"
  }
 },
 "nbformat": 4,
 "nbformat_minor": 5
}
